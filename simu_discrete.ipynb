{
 "cells": [
  {
   "cell_type": "markdown",
   "id": "5f26a6a5",
   "metadata": {},
   "source": [
    "# Simulation discrète du modèle macroscopique\n"
   ]
  },
  {
   "cell_type": "markdown",
   "id": "56f925a3",
   "metadata": {},
   "source": [
    "Ce code présente une validation du modèle microscopique proposé par Chevalier, Le Ny et Malhamé (2015) qui est ensuite généralisé à un modèle de jeu à champ moyen. Le modèle consiste à considérer que chaque conducteur règle sa vitesse par la maximisation d'une fonction d'utilité donné par \n",
    "$$f_i = v_i \\left( 1 - F\\left( \\frac1N \\sum_{j>i} w(x_j-x_i)\\right)\\right) -\\frac12 \\alpha v_i^2$$\n",
    "où les conducteurs sont ordonnés de façon croissante (le conducteur 1 est derrière tout le monde).\n",
    "\n",
    "On montrera l'application de ce modèle à un nombre de joueurs petit (N=2 et N=3)"
   ]
  },
  {
   "cell_type": "code",
   "execution_count": 1,
   "id": "cedf6c27",
   "metadata": {},
   "outputs": [],
   "source": [
    "# Importation des modules à utiliser\n",
    "import numpy as np\n",
    "import matplotlib.pyplot as plt"
   ]
  },
  {
   "cell_type": "markdown",
   "id": "8b422a0f",
   "metadata": {},
   "source": [
    "## Simulation pour deux joueurs"
   ]
  },
  {
   "cell_type": "markdown",
   "id": "8ab531d8",
   "metadata": {},
   "source": [
    "Dans ce cas-ci, les fonctions utilité sont:\n",
    "$$ f_1 = v_1 \\left( 1 - F\\left( \\frac12 w(x_2 - x_1)\\right)\\right) -\\frac12 \\alpha v_1^2 $$\n",
    "$$ f_2 = v_2 - \\frac12 v_2^2 $$\n",
    "\n",
    "Par la suite, on considérera $F(x) = x$ et $w(y) = \\frac1{\\lambda}e^{-\\frac{y}{\\lambda}}$ avec $\\lambda$ un paramètre que l'on précisera.\n",
    "\n",
    "Notons que le conducteur 2 peut regler sa vitesse pour qu'elle soit maximale. Cela est cohérent avec le fait que les conducteurs ne prennent en compte que les conducteurs en avant. Ainsi, $v_2 = v_{max} = \\frac1{\\alpha}$.\n",
    "\n",
    "Pour le joueur 1, la vitesse doit se calculer à chaque instant et est donnée par : \n",
    "$$v_1 = \\frac1{\\alpha}\\left( 1 - \\frac1{2\\lambda}e^{-\\frac{x_2 - x_1}{\\lambda}}\\right)$$"
   ]
  },
  {
   "cell_type": "code",
   "execution_count": 26,
   "id": "8b7a9ca3",
   "metadata": {},
   "outputs": [
    {
     "data": {
      "text/plain": [
       "Text(0, 0.5, 'position (m)')"
      ]
     },
     "execution_count": 26,
     "metadata": {},
     "output_type": "execute_result"
    },
    {
     "data": {
      "image/png": "[encoded data removed]",
      "text/plain": [
       "<Figure size 432x288 with 1 Axes>"
      ]
     },
     "metadata": {
      "needs_background": "light"
     },
     "output_type": "display_data"
    }
   ],
   "source": [
    "# Définition des paramètres de la simulation\n",
    "T = 100\n",
    "N = 1000\n",
    "dt = T/N\n",
    "alpha = 10\n",
    "lda = 0.5 # paramètre lambda \n",
    "x1 = [0]\n",
    "x2 = [0.1]\n",
    "t = np.linspace(0,T,N+1)\n",
    "v2max = 1/alpha\n",
    "\n",
    "# Boucle\n",
    "for i in range(N):\n",
    "    v1 = 1/alpha * (1 - 1/(2*lda) * np.exp(-(x2[-1]-x1[-1])/lda))\n",
    "    x2.append(x2[-1] + v2max * dt)\n",
    "    x1.append(x1[-1] + v1 * dt)\n",
    "    \n",
    "# Plot\n",
    "plt.plot(t,x1,label=\"Conducteur 1\")\n",
    "plt.plot(t,x2,label=\"Conducteur 2\")\n",
    "plt.legend()\n",
    "plt.xlabel(\"temps (m)\")\n",
    "plt.ylabel(\"position (m)\")"
   ]
  },
  {
   "cell_type": "code",
   "execution_count": null,
   "id": "12c82145",
   "metadata": {},
   "outputs": [],
   "source": []
  }
 ],
 "metadata": {
  "kernelspec": {
   "display_name": "Python 3",
   "language": "python",
   "name": "python3"
  },
  "language_info": {
   "codemirror_mode": {
    "name": "ipython",
    "version": 3
   },
   "file_extension": ".py",
   "mimetype": "text/x-python",
   "name": "python",
   "nbconvert_exporter": "python",
   "pygments_lexer": "ipython3",
   "version": "3.8.8"
  }
 },
 "nbformat": 4,
 "nbformat_minor": 5
}
