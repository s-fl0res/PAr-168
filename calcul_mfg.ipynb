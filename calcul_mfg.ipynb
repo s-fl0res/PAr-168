{
 "cells": [
  {
   "cell_type": "markdown",
   "id": "1b4fc212",
   "metadata": {},
   "source": [
    "# Calcul numérique du modèle MFG\n",
    "\n",
    "Ce notebook contient le calcul des solutions numériques au modèle de trafic comme MFG proposé par Chevalier, Le Ny et Malhamé. Le schéma de discrétisation est celui proposé dans le même article, dans le but de réproduire les résultats montrés dans la dernière partie de l'article."
   ]
  },
  {
   "cell_type": "code",
   "execution_count": 42,
   "id": "e263c8ab",
   "metadata": {},
   "outputs": [],
   "source": [
    "import numpy as np\n",
    "import matplotlib.pyplot as plt"
   ]
  },
  {
   "cell_type": "markdown",
   "id": "a0750a6b",
   "metadata": {},
   "source": [
    "## Calcul des itérations en arrière de HJB\n",
    "Deux fonctions sont créées. _rhoTilde_ est le calcul de \n",
    "$$\\tilde{\\rho}_j^i = \\sum_{k \\geq i} \\rho_j^k w((k-i)\\Delta x) \\Delta x$$\n",
    "pour un instant $j$ donné, qui constitue une approximation $\\int_{i\\Delta x}^{\\infty} \\rho_{j\\Delta t}(y-i\\Delta x) w(y)dy$ "
   ]
  },
  {
   "cell_type": "code",
   "execution_count": 43,
   "id": "a37e640f",
   "metadata": {},
   "outputs": [],
   "source": [
    "def rhoTilde(rho,n,w,dx):\n",
    "    '''\n",
    "    Calcule rhoTilde à un instant donné.\n",
    "    '''\n",
    "    rho_tilde = [[sum([rho[j][k]*w((k-i)*dx)*dx for k in range(i,m)])for i in range(m)] for j in range(n)]\n",
    "    return rho_tilde"
   ]
  },
  {
   "cell_type": "markdown",
   "id": "f50271f3",
   "metadata": {},
   "source": [
    "La fonction _backwardsHJB_ calcule une itération du schéma en arrière pour l'équation HJB. On prend $V_T(x) = 0$ sur $[0,L]$ et on calcule $V$ et $v$ en arrière  "
   ]
  },
  {
   "cell_type": "code",
   "execution_count": 44,
   "id": "23ac5ef0",
   "metadata": {},
   "outputs": [],
   "source": [
    "def backwardsHJB(T,L,n,m,rho,alpha,w):\n",
    "    ''' \n",
    "    Cette fonction calcule une itération du schéma HJB.\n",
    "    '''\n",
    "    dt = T/n\n",
    "    dx = L/m\n",
    "    V = [[0 for i in range(m)] for j in range(n)]\n",
    "    v = [[0 for i in range(m)] for j in range(n)]\n",
    "    rho_tilde = rhoTilde(rho,n,w,dx)\n",
    "    for j in range(0,n-1,-1):\n",
    "        for i in range(m-1):\n",
    "            v[j][i] = 1/alpha * (1 - rho_tilde[i] + (V[j][i+1] - V[j][i])/dx)\n",
    "            V[j][i] = V[j+1][i] + dt/2 * alpha (v[j][i])**2\n",
    "    return V,v\n"
   ]
  },
  {
   "cell_type": "markdown",
   "id": "992142a9",
   "metadata": {},
   "source": [
    "## Calcul de l'itération en volumes finis pour la loi de conservation\n",
    "On utilise le schéma Lax-Wendroff explicite pour calculer $\\rho$ à partir du $v$ obtenu par HJB."
   ]
  },
  {
   "cell_type": "code",
   "execution_count": 45,
   "id": "937d17b4",
   "metadata": {},
   "outputs": [],
   "source": [
    "def discretisationLW(rho,v,dt,dx,n,m):\n",
    "    '''\n",
    "    Calcule une itération du calcul de rho utilisant le schéma Lax-Wendroff\n",
    "    '''\n",
    "    rhov = [[rho[j][i]*v[j][i] for i in range(m)] for j in range(n)]\n",
    "    for j in range(n-1):\n",
    "        for i in range(1,m-1):\n",
    "            rho[j+1][i] = rho[j][i] - dt/(2*dx) * (rhov[j][i+1] - rhov[j][i-1]) + \\\n",
    "            1/2*(dt/dx)**2*(((v[j][i+1] + v[j][i])/2 *(rhov[j][i+1]) - rhov[j][i+1]) \\\n",
    "                            - (v[j][i+1] + v[j][i])/2 * (rhov[j][i] - rhov[j][i-1]))\n",
    "    return rho"
   ]
  },
  {
   "cell_type": "markdown",
   "id": "011838ce",
   "metadata": {},
   "source": [
    "## Application aux conditions proposées dans l'article"
   ]
  },
  {
   "cell_type": "code",
   "execution_count": 46,
   "id": "7171904b",
   "metadata": {},
   "outputs": [
    {
     "data": {
      "text/plain": [
       "Text(0.5, 1.0, \"Condition d'entrée\")"
      ]
     },
     "execution_count": 46,
     "metadata": {},
     "output_type": "execute_result"
    },
    {
     "data": {
      "image/png": "[encoded data removed]",
      "text/plain": [
       "<Figure size 432x288 with 1 Axes>"
      ]
     },
     "metadata": {
      "needs_background": "light"
     },
     "output_type": "display_data"
    }
   ],
   "source": [
    "L = 1\n",
    "T = 1\n",
    "n = 100\n",
    "m = 100\n",
    "x  = np.linspace(0,L,m)\n",
    "rho_0 = 0.25*np.exp(-((x-0.5)/0.1)**2)\n",
    "alpha = 1/0.07\n",
    "\n",
    "plt.figure()\n",
    "plt.plot(x,rho_0)\n",
    "plt.xlabel('x')\n",
    "plt.ylabel('rho(x,0)')\n",
    "plt.title(\"Condition d'entrée\")"
   ]
  },
  {
   "cell_type": "code",
   "execution_count": 53,
   "id": "5e8c8ac2",
   "metadata": {},
   "outputs": [],
   "source": [
    "EX0 = sum([x[i] * rho_0[i]*L/m for i in range(len(x))])\n",
    "VarX0 = sum([(x[i]-EX0)**2 * rho_0[i] * L/m for i in range(len(x))])\n",
    "lda = 0.1 * np.sqrt(VarX0)\n",
    "w = lambda y: 1/lda * np.exp(-y/lda)"
   ]
  },
  {
   "cell_type": "code",
   "execution_count": 54,
   "id": "2574ab04",
   "metadata": {},
   "outputs": [],
   "source": [
    "rho = [[rho_0[j] for j in range(m)] for i in range(n)]\n",
    "for iteration in range(10):\n",
    "    V,v = backwardsHJB(T,L,n,m,rho,alpha,w)\n",
    "    rho = discretisationLW(rho,v,T/n,L/m,n,m)"
   ]
  },
  {
   "cell_type": "code",
   "execution_count": null,
   "id": "eb495a6c",
   "metadata": {},
   "outputs": [],
   "source": []
  }
 ],
 "metadata": {
  "kernelspec": {
   "display_name": "Python 3",
   "language": "python",
   "name": "python3"
  },
  "language_info": {
   "codemirror_mode": {
    "name": "ipython",
    "version": 3
   },
   "file_extension": ".py",
   "mimetype": "text/x-python",
   "name": "python",
   "nbconvert_exporter": "python",
   "pygments_lexer": "ipython3",
   "version": "3.8.8"
  }
 },
 "nbformat": 4,
 "nbformat_minor": 5
}
