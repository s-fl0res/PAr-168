{
 "cells": [
  {
   "cell_type": "markdown",
   "id": "fb362599",
   "metadata": {},
   "source": [
    "# Calcul numérique du modèle MFG\n",
    "\n",
    "Ce notebook contient le calcul des solutions numériques au modèle de trafic comme MFG proposé par Chevalier, Le Ny et Malhamé. Le schéma de discrétisation est celui proposé dans le même article, dans le but de réproduire les résultats montrés dans la dernière partie de l'article."
   ]
  },
  {
   "cell_type": "code",
   "execution_count": 2,
   "id": "3c7b0844",
   "metadata": {},
   "outputs": [],
   "source": [
    "import numpy as np\n",
    "import matplotlib.pyplot as plt"
   ]
  },
  {
   "cell_type": "code",
   "execution_count": null,
   "id": "e19414ec",
   "metadata": {},
   "outputs": [],
   "source": [
    "def backwardsHJB(T,L,n,m,rho,alpha,w):\n",
    "    ''' \n",
    "    Cette fonction calcule une itération du schéma HJB.\n",
    "    '''\n",
    "    dt = T/n\n",
    "    dx = L/m\n",
    "    V = [[0 for i in range(m)] for j in range(n)]\n",
    "    v = [[0 for i in range(m)] for j in range(n)]\n",
    "    for j in range(0,n-1,-1):\n",
    "        rho_tilde = rhoTilde(rho[j],n,w,dx)\n",
    "        for i in range(m-1):\n",
    "            v[j][i] = 1/alpha * (1 - rho_tilde[i] + (V[j][i+1] - V[j][i])/dx)\n",
    "            V[j][i] = V[j+1][i] + dt/2 * alpha (v[j][i])**2\n",
    "    return V,v\n"
   ]
  },
  {
   "cell_type": "code",
   "execution_count": 1,
   "id": "a5c2f0a7",
   "metadata": {},
   "outputs": [],
   "source": [
    "def rhoTilde(rho,n,w,dx):\n",
    "    '''\n",
    "    Calcule rhoTilde à un instant donné.\n",
    "    '''\n",
    "    rho_tilde = [sum([rho[k]*w((k-i)*dx) for k in range(i,n+1)])for i in range(0,n+1)]\n",
    "    return rho_tilde"
   ]
  },
  {
   "cell_type": "code",
   "execution_count": null,
   "id": "ce0ab8b5",
   "metadata": {},
   "outputs": [],
   "source": [
    "def discretisationLW(rho,v,dt,dx,n,m):\n",
    "    '''\n",
    "    Calcule une itération du calcul de rho utilisant le schéma Lax-Wendroff\n",
    "    '''\n",
    "    rhov = [[rho[j][i]*v[j][i] for i in range(m)] for j in range(n)]\n",
    "    for j in range(n-1):\n",
    "        for i in range(1,m-1):\n",
    "            rho[j+1][i] = rho[j][i] - dt/(2*dx) * (rhov[j][i+1] - rhov[j][i-1]) +\n",
    "                        1/2*(dt/dx)**2*(((v[j][i+1] + v[j][i])/2 *(rhov[j][i+1]) - rhov[j][i+1]) - (v[j][i+1] + v[j][i])/2 * )"
   ]
  },
  {
   "cell_type": "code",
   "execution_count": 4,
   "id": "9e351ed5",
   "metadata": {},
   "outputs": [],
   "source": [
    "L = 1\n",
    "T = 1\n",
    "n = 10\n",
    "m = 10\n",
    "x  = np.linspace(0,L,n)\n",
    "rho_0 = 0.25*np.exp(-(x-0.5)**2 / 0.1)"
   ]
  },
  {
   "cell_type": "code",
   "execution_count": 6,
   "id": "72629606",
   "metadata": {},
   "outputs": [
    {
     "data": {
      "text/plain": [
       "array([0.        , 0.11111111, 0.22222222, 0.33333333, 0.44444444,\n",
       "       0.55555556, 0.66666667, 0.77777778, 0.88888889, 1.        ])"
      ]
     },
     "execution_count": 6,
     "metadata": {},
     "output_type": "execute_result"
    }
   ],
   "source": []
  }
 ],
 "metadata": {
  "kernelspec": {
   "display_name": "Python 3",
   "language": "python",
   "name": "python3"
  },
  "language_info": {
   "codemirror_mode": {
    "name": "ipython",
    "version": 3
   },
   "file_extension": ".py",
   "mimetype": "text/x-python",
   "name": "python",
   "nbconvert_exporter": "python",
   "pygments_lexer": "ipython3",
   "version": "3.8.8"
  }
 },
 "nbformat": 4,
 "nbformat_minor": 5
}
